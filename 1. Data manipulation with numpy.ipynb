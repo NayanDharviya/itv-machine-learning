{
 "cells": [
  {
   "cell_type": "markdown",
   "metadata": {},
   "source": [
    "#### What is NumPy?\n",
    "\n",
    "It stands for \"Numerical Python\". NumPy is a Python module that provides fast and efficient array operations of homogeneous data. The central feature of NumPy is the array object class, also called the ndarray. Arrays are very similar to lists in Python, except that every element of an array must be of the same type (in lists you can hold data which have different types), typically a numeric type like float or int. Arrays make operations with large amounts of numeric data very fast and are generally much more efficient than lists.\n",
    "\n",
    "#### Creating NumPy arrays\n",
    "\n",
    "The syntax of creating a NumPy array is:\n",
    "\n",
    "numpy.array(object, dtype = None, copy = True, order = None, subok = False, ndmin = 0)\n",
    "\n",
    "Here, the arguments\n",
    "\n",
    "    object: Any object exposing the array interface\n",
    "    dtype: Desired data type of array, optional\n",
    "    copy: Optional. By default (true), the object is copied\n",
    "    order: C (row major) or F (column major) or A (any) (default)\n",
    "    subok: By default, returned array forced to be a base class array. If true, sub-classes passed through\n",
    "    ndim: Specifies minimum dimensions of resultant array\n"
   ]
  },
  {
   "cell_type": "code",
   "execution_count": 1,
   "metadata": {},
   "outputs": [],
   "source": [
    "#importing numpy library\n",
    "import numpy as np"
   ]
  },
  {
   "cell_type": "code",
   "execution_count": 2,
   "metadata": {},
   "outputs": [
    {
     "name": "stdout",
     "output_type": "stream",
     "text": [
      "[1 2 3 4]\n",
      "[[1 2 3 4]\n",
      " [5 6 7 8]]\n"
     ]
    }
   ],
   "source": [
    "#creating 1D array\n",
    "a = np.array([1,2,3,4])\n",
    "#creating 2D array\n",
    "b = np.array([[1,2,3,4],[5,6,7,8]])\n",
    "print(a)\n",
    "print(b)"
   ]
  },
  {
   "cell_type": "code",
   "execution_count": 3,
   "metadata": {},
   "outputs": [
    {
     "name": "stdout",
     "output_type": "stream",
     "text": [
      "(4,)\n",
      "(2, 4)\n"
     ]
    }
   ],
   "source": [
    "#Attributes of numpy arrays\n",
    "# Shape: returns a tuple consisting of array dimensions\n",
    "print(a.shape)\n",
    "print(b.shape)"
   ]
  },
  {
   "cell_type": "code",
   "execution_count": 4,
   "metadata": {},
   "outputs": [
    {
     "name": "stdout",
     "output_type": "stream",
     "text": [
      "1\n",
      "2\n"
     ]
    }
   ],
   "source": [
    "#dimension: returns a number that describes no of dimesions of array\n",
    "print(a.ndim)\n",
    "print(b.ndim)"
   ]
  },
  {
   "cell_type": "code",
   "execution_count": 5,
   "metadata": {},
   "outputs": [
    {
     "name": "stdout",
     "output_type": "stream",
     "text": [
      "4\n",
      "8\n"
     ]
    }
   ],
   "source": [
    "#Size: total number of items in the array\n",
    "print(a.size)\n",
    "print(b.size)"
   ]
  },
  {
   "cell_type": "code",
   "execution_count": 6,
   "metadata": {},
   "outputs": [
    {
     "name": "stdout",
     "output_type": "stream",
     "text": [
      "int32\n",
      "int32\n"
     ]
    }
   ],
   "source": [
    "#Datatype: name of the datatype that is stored in array\n",
    "print(a.dtype)\n",
    "print(b.dtype)"
   ]
  },
  {
   "cell_type": "code",
   "execution_count": 7,
   "metadata": {},
   "outputs": [
    {
     "name": "stdout",
     "output_type": "stream",
     "text": [
      "4\n",
      "4\n"
     ]
    }
   ],
   "source": [
    "#itemsize: the memory consumed by the array\n",
    "print(a.itemsize)\n",
    "print(b.itemsize)"
   ]
  },
  {
   "cell_type": "code",
   "execution_count": 8,
   "metadata": {},
   "outputs": [
    {
     "name": "stdout",
     "output_type": "stream",
     "text": [
      "[ 1  2  3  4  5  6  7  8  9 10]\n"
     ]
    }
   ],
   "source": [
    "#creating an array of 1st 10 natural numbers\n",
    "x = np.arange(1,11)\n",
    "print(x)"
   ]
  },
  {
   "cell_type": "code",
   "execution_count": 9,
   "metadata": {},
   "outputs": [
    {
     "data": {
      "text/plain": [
       "array([[ 1,  2],\n",
       "       [ 3,  4],\n",
       "       [ 5,  6],\n",
       "       [ 7,  8],\n",
       "       [ 9, 10]])"
      ]
     },
     "execution_count": 9,
     "metadata": {},
     "output_type": "execute_result"
    }
   ],
   "source": [
    "#Changing the shape of the array, basically changing the dimension of the array\n",
    "x.reshape(5,2)"
   ]
  },
  {
   "cell_type": "code",
   "execution_count": 10,
   "metadata": {},
   "outputs": [
    {
     "name": "stdout",
     "output_type": "stream",
     "text": [
      "['1' '2.3' 'abc' 'True']\n"
     ]
    }
   ],
   "source": [
    "lst = [1,2.3, \"abc\", True]\n",
    "y = np.array(lst)\n",
    "print(y)"
   ]
  },
  {
   "cell_type": "code",
   "execution_count": null,
   "metadata": {},
   "outputs": [],
   "source": []
  },
  {
   "cell_type": "code",
   "execution_count": null,
   "metadata": {},
   "outputs": [],
   "source": []
  }
 ],
 "metadata": {
  "kernelspec": {
   "display_name": "Python 3",
   "language": "python",
   "name": "python3"
  },
  "language_info": {
   "codemirror_mode": {
    "name": "ipython",
    "version": 3
   },
   "file_extension": ".py",
   "mimetype": "text/x-python",
   "name": "python",
   "nbconvert_exporter": "python",
   "pygments_lexer": "ipython3",
   "version": "3.7.4"
  }
 },
 "nbformat": 4,
 "nbformat_minor": 2
}
